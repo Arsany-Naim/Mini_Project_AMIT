{
 "cells": [
  {
   "cell_type": "code",
   "execution_count": 33,
   "id": "c4ab3224",
   "metadata": {},
   "outputs": [],
   "source": [
    "# Mini Project (calculator)\n",
    "\n",
    "def add(n1, n2):\n",
    "    return f\"{n1} + {n2} = {n1 + n2}\"\n",
    "\n",
    "def subt(n1, n2):\n",
    "    return f\"{n1} - {n2} = {n1 - n2}\"\n",
    "\n",
    "def multi(n1, n2):\n",
    "    return f\"{n1} * {n2} = {n1 * n2}\" \n",
    "\n",
    "def div(n1, n2):\n",
    "    return f\"{n1} / {n2} = {n1 / n2}\""
   ]
  },
  {
   "cell_type": "code",
   "execution_count": 35,
   "id": "b0a8bcd1",
   "metadata": {},
   "outputs": [
    {
     "name": "stdout",
     "output_type": "stream",
     "text": [
      "Enter (Y / N) : y\n",
      "Enter the name of the operation : Add\n",
      "First number : 68\n",
      "Second number : 2\n",
      "68 + 2 = 70\n",
      "Enter (Y / N) : n\n",
      "Try Again!\n"
     ]
    }
   ],
   "source": [
    "def operation(operateName, num1, num2):\n",
    "    \n",
    "        if operateName.lower()[0:3] == \"add\":\n",
    "            return add(num1, num2)\n",
    "        elif operateName.lower()[0:4] == \"subt\":\n",
    "            return subt(num1, num2)\n",
    "        elif operateName.lower()[0:4] == \"mult\":\n",
    "            return multi(num1, num2)\n",
    "        elif operateName.lower()[0:3] == \"div\":\n",
    "            return div(num1, num2)\n",
    "\n",
    "while True: \n",
    "    x = input(\"Enter (Y / N) : \")\n",
    "    if x.upper() == \"Y\":\n",
    "        name = input(\"Enter the name of the operation : \")\n",
    "        a = int(input(\"First number : \"))\n",
    "        b = int(input(\"Second number : \"))\n",
    "        print(f\"{operation(name, a, b)}\")\n",
    "    else:\n",
    "        print(\"Try Again!\")\n",
    "        break\n",
    "\n",
    "    "
   ]
  }
 ],
 "metadata": {
  "kernelspec": {
   "display_name": "Python 3 (ipykernel)",
   "language": "python",
   "name": "python3"
  },
  "language_info": {
   "codemirror_mode": {
    "name": "ipython",
    "version": 3
   },
   "file_extension": ".py",
   "mimetype": "text/x-python",
   "name": "python",
   "nbconvert_exporter": "python",
   "pygments_lexer": "ipython3",
   "version": "3.9.7"
  }
 },
 "nbformat": 4,
 "nbformat_minor": 5
}
